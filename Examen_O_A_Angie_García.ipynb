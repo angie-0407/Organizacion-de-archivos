{
  "nbformat": 4,
  "nbformat_minor": 0,
  "metadata": {
    "colab": {
      "provenance": [],
      "authorship_tag": "ABX9TyMHFDivFSFzS7LKcHwB6Rd9",
      "include_colab_link": true
    },
    "kernelspec": {
      "name": "python3",
      "display_name": "Python 3"
    },
    "language_info": {
      "name": "python"
    }
  },
  "cells": [
    {
      "cell_type": "markdown",
      "metadata": {
        "id": "view-in-github",
        "colab_type": "text"
      },
      "source": [
        "<a href=\"https://colab.research.google.com/github/angie-0407/Organizacion-de-archivos/blob/Reporte_Stock/Examen_O_A_Angie_Garc%C3%ADa.ipynb\" target=\"_parent\"><img src=\"https://colab.research.google.com/assets/colab-badge.svg\" alt=\"Open In Colab\"/></a>"
      ]
    },
    {
      "cell_type": "markdown",
      "source": [
        "**1. Crear un archivo de inventario de componentes**"
      ],
      "metadata": {
        "id": "YkbsCoPZSqv3"
      }
    },
    {
      "cell_type": "code",
      "source": [
        "import csv, os\n",
        "from datetime import datetime\n",
        "\n",
        "archivo = \"inventario_componentes.csv\"\n",
        "campos = [\"ID\", \"Nombre\", \"Fabricante\", \"Categoria\", \"Cantidad\", \"Fecha_Ultima_Entrada\"]\n",
        "\n",
        "def crear_archivo_con_datos():\n",
        "    datos = [\n",
        "        [\"C001\", \"Arduino UNO\", \"Arduino\", \"Microcontrolador\", 15, \"2025-10-15\"],\n",
        "        [\"C002\", \"Sensor DHT11\", \"Adafruit\", \"Sensor\", 8, \"2025-09-20\"],\n",
        "        [\"C003\", \"ESP32 DevKit\", \"Espressif\", \"Microcontrolador\", 5, \"2025-08-01\"],\n",
        "        [\"C004\", \"Servo Motor SG90\", \"TowerPro\", \"Actuador\", 25, \"2025-10-10\"],\n",
        "        [\"C005\", \"Resistencia 220Ω\", \"Vishay\", \"Pasivo\", 50, \"2025-09-28\"],\n",
        "        [\"C006\", \"Sensor PIR\", \"HC-SR501\", \"Sensor\", 7, \"2025-07-15\"]\n",
        "    ]\n",
        "    with open(archivo, \"w\", newline=\"\", encoding=\"utf-8\") as f:\n",
        "        writer = csv.writer(f)\n",
        "        writer.writerow(campos)\n",
        "        writer.writerows(datos)\n",
        "    print(\"✅ Archivo creado correctamente en:\", os.getcwd())\n",
        "\n",
        "crear_archivo_con_datos()\n"
      ],
      "metadata": {
        "colab": {
          "base_uri": "https://localhost:8080/"
        },
        "id": "3i_OHYruS-1W",
        "outputId": "746ab021-1217-4e8f-cebc-bd054a835036"
      },
      "execution_count": 14,
      "outputs": [
        {
          "output_type": "stream",
          "name": "stdout",
          "text": [
            "✅ Archivo creado correctamente en: /content\n"
          ]
        }
      ]
    },
    {
      "cell_type": "code",
      "source": [
        "#El inventario se creó\n",
        "!ls -l inventario_componentes.csv"
      ],
      "metadata": {
        "colab": {
          "base_uri": "https://localhost:8080/"
        },
        "id": "ZfAlqKNpY5Yn",
        "outputId": "03bd348f-17c9-423a-a2f8-557335c97ca2"
      },
      "execution_count": 15,
      "outputs": [
        {
          "output_type": "stream",
          "name": "stdout",
          "text": [
            "-rw-r--r-- 1 root root 379 Oct 21 20:13 inventario_componentes.csv\n"
          ]
        }
      ]
    },
    {
      "cell_type": "markdown",
      "source": [
        "**2. Lectura Secuencial**"
      ],
      "metadata": {
        "id": "pAAKsLyUXGex"
      }
    },
    {
      "cell_type": "code",
      "source": [],
      "metadata": {
        "id": "qSA3cVozXKir"
      },
      "execution_count": 12,
      "outputs": []
    }
  ]
}