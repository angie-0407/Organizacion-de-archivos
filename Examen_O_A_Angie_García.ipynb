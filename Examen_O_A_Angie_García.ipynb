{
  "nbformat": 4,
  "nbformat_minor": 0,
  "metadata": {
    "colab": {
      "provenance": [],
      "authorship_tag": "ABX9TyME8Xta4UimXGbj3RvN/8u+",
      "include_colab_link": true
    },
    "kernelspec": {
      "name": "python3",
      "display_name": "Python 3"
    },
    "language_info": {
      "name": "python"
    }
  },
  "cells": [
    {
      "cell_type": "markdown",
      "metadata": {
        "id": "view-in-github",
        "colab_type": "text"
      },
      "source": [
        "<a href=\"https://colab.research.google.com/github/angie-0407/Organizacion-de-archivos/blob/Reporte_Stock/Examen_O_A_Angie_Garc%C3%ADa.ipynb\" target=\"_parent\"><img src=\"https://colab.research.google.com/assets/colab-badge.svg\" alt=\"Open In Colab\"/></a>"
      ]
    },
    {
      "cell_type": "markdown",
      "source": [
        "**1. Crear un archivo de inventario de componentes**"
      ],
      "metadata": {
        "id": "YkbsCoPZSqv3"
      }
    },
    {
      "cell_type": "code",
      "source": [
        "import csv\n",
        "import os\n",
        "from datetime import datetime\n",
        "\n",
        "archivo = \"inventario_componentes.csv\"\n",
        "campos = [\"ID\", \"Nombre\", \"Fabricante\", \"Categoria\", \"Cantidad\", \"Fecha_Ultima_Entrada\"]\n",
        "\n",
        "# CREAR ARCHIVO Y AÑADIR DATOS DE EJEMPLO\n",
        "def crear_archivo_con_datos():\n",
        "    \"\"\"Crea el archivo con algunos registros de ejemplo.\"\"\"\n",
        "    datos = [\n",
        "        [\"C001\", \"Arduino UNO\", \"Arduino\", \"Microcontrolador\", 15, \"2025-10-15\"],\n",
        "        [\"C002\", \"Sensor DHT11\", \"Adafruit\", \"Sensor\", 8, \"2025-09-20\"],\n",
        "        [\"C003\", \"ESP32 DevKit\", \"Espressif\", \"Microcontrolador\", 5, \"2025-08-01\"],\n",
        "        [\"C004\", \"Servo Motor SG90\", \"TowerPro\", \"Actuador\", 25, \"2025-10-10\"],\n",
        "        [\"C005\", \"Resistencia 220Ω\", \"Vishay\", \"Pasivo\", 50, \"2025-09-28\"],\n",
        "        [\"C006\", \"Sensor PIR\", \"HC-SR501\", \"Sensor\", 7, \"2025-07-15\"]\n",
        "    ]\n",
        "\n",
        "    with open(archivo, mode=\"w\", newline='', encoding=\"utf-8\") as file:\n",
        "        writer = csv.writer(file)\n",
        "        writer.writerow(campos)\n",
        "        writer.writerows(datos)\n",
        "    print(\"Archivo creado con datos de ejemplo.\\n\")"
      ],
      "metadata": {
        "id": "3i_OHYruS-1W"
      },
      "execution_count": 2,
      "outputs": []
    },
    {
      "cell_type": "markdown",
      "source": [
        "**2. Lectura Secuencial**"
      ],
      "metadata": {
        "id": "pAAKsLyUXGex"
      }
    },
    {
      "cell_type": "code",
      "source": [],
      "metadata": {
        "id": "qSA3cVozXKir"
      },
      "execution_count": null,
      "outputs": []
    }
  ]
}