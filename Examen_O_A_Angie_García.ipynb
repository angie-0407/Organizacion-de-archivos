{
  "nbformat": 4,
  "nbformat_minor": 0,
  "metadata": {
    "colab": {
      "provenance": [],
      "authorship_tag": "ABX9TyPE8xbPPFI7QDntlv5CBf57",
      "include_colab_link": true
    },
    "kernelspec": {
      "name": "python3",
      "display_name": "Python 3"
    },
    "language_info": {
      "name": "python"
    }
  },
  "cells": [
    {
      "cell_type": "markdown",
      "metadata": {
        "id": "view-in-github",
        "colab_type": "text"
      },
      "source": [
        "<a href=\"https://colab.research.google.com/github/angie-0407/Organizacion-de-archivos/blob/Reporte_Stock/Examen_O_A_Angie_Garc%C3%ADa.ipynb\" target=\"_parent\"><img src=\"https://colab.research.google.com/assets/colab-badge.svg\" alt=\"Open In Colab\"/></a>"
      ]
    },
    {
      "cell_type": "markdown",
      "source": [
        "# Examen de Organización de Archivos\n",
        "**Angie Cecilia García García**\n",
        "\n"
      ],
      "metadata": {
        "id": "y3ZaSf2BeeEs"
      }
    },
    {
      "cell_type": "markdown",
      "source": [
        "**1. Crear un archivo de inventario de componentes**"
      ],
      "metadata": {
        "id": "YkbsCoPZSqv3"
      }
    },
    {
      "cell_type": "code",
      "source": [
        "import csv, os\n",
        "from datetime import datetime\n",
        "\n",
        "archivo = \"inventario_componentes.csv\"\n",
        "campos = [\"ID\", \"Nombre\", \"Fabricante\", \"Categoria\", \"Cantidad\", \"Fecha_Ultima_Entrada\"]\n",
        "\n",
        "def crear_archivo_con_datos():\n",
        "    datos = [\n",
        "        [\"C001\", \"Arduino UNO\", \"Arduino\", \"Microcontrolador\", 15, \"2025-10-15\"],\n",
        "        [\"C002\", \"Sensor DHT11\", \"Adafruit\", \"Sensor\", 8, \"2025-09-20\"],\n",
        "        [\"C003\", \"ESP32 DevKit\", \"Espressif\", \"Microcontrolador\", 5, \"2025-08-01\"],\n",
        "        [\"C004\", \"Servo Motor SG90\", \"TowerPro\", \"Actuador\", 25, \"2025-10-10\"],\n",
        "        [\"C005\", \"Resistencia 220Ω\", \"Vishay\", \"Pasivo\", 50, \"2025-09-28\"],\n",
        "        [\"C006\", \"Sensor PIR\", \"HC-SR501\", \"Sensor\", 7, \"2025-07-15\"]\n",
        "    ]\n",
        "    with open(archivo, \"w\", newline=\"\", encoding=\"utf-8\") as f:\n",
        "        writer = csv.writer(f)\n",
        "        writer.writerow(campos)\n",
        "        writer.writerows(datos)\n",
        "    print(\" Archivo creado correctamente en:\", os.getcwd())\n",
        "\n",
        "crear_archivo_con_datos()\n"
      ],
      "metadata": {
        "colab": {
          "base_uri": "https://localhost:8080/"
        },
        "id": "3i_OHYruS-1W",
        "outputId": "a8eece0a-60ef-4d4b-ccbe-c0dea989a5ca"
      },
      "execution_count": 22,
      "outputs": [
        {
          "output_type": "stream",
          "name": "stdout",
          "text": [
            " Archivo creado correctamente en: /content\n"
          ]
        }
      ]
    },
    {
      "cell_type": "code",
      "source": [
        "#El inventario se creó\n",
        "!ls -l inventario_componentes.csv"
      ],
      "metadata": {
        "colab": {
          "base_uri": "https://localhost:8080/"
        },
        "id": "ZfAlqKNpY5Yn",
        "outputId": "a9539072-2a2f-422e-89d4-7d1ce08520a0"
      },
      "execution_count": 23,
      "outputs": [
        {
          "output_type": "stream",
          "name": "stdout",
          "text": [
            "-rw-r--r-- 1 root root 379 Oct 21 20:21 inventario_componentes.csv\n"
          ]
        }
      ]
    },
    {
      "cell_type": "markdown",
      "source": [
        "**2. Lectura Secuencial**"
      ],
      "metadata": {
        "id": "pAAKsLyUXGex"
      }
    },
    {
      "cell_type": "code",
      "source": [
        "archivo = \"inventario_componentes.csv\"\n",
        "\n",
        "def lectura_secuencial():\n",
        "    if not os.path.exists(archivo):\n",
        "        print(\" El archivo no existe. Ejecute primero la creación del inventario.\")\n",
        "        return\n",
        "\n",
        "    print(\" LECTURA SECUENCIAL DEL ARCHIVO DE INVENTARIO:\\n\")\n",
        "\n",
        "    # Abrir el archivo en modo lectura\n",
        "    with open(archivo, mode=\"r\", encoding=\"utf-8\") as file:\n",
        "        lector = csv.DictReader(file)  # lee las filas como diccionarios\n",
        "        for fila in lector:\n",
        "            print(f\"ID: {fila['ID']}\")\n",
        "            print(f\"Nombre: {fila['Nombre']}\")\n",
        "            print(f\"Fabricante: {fila['Fabricante']}\")\n",
        "            print(f\"Categoría: {fila['Categoria']}\")\n",
        "            print(f\"Cantidad: {fila['Cantidad']}\")\n",
        "            print(f\"Fecha Última Entrada: {fila['Fecha_Ultima_Entrada']}\")\n",
        "            print(\"-\" * 50)\n",
        "\n",
        "lectura_secuencial()\n"
      ],
      "metadata": {
        "colab": {
          "base_uri": "https://localhost:8080/"
        },
        "id": "qSA3cVozXKir",
        "outputId": "9b9ac865-2399-484e-d56b-0a14ce1a668f"
      },
      "execution_count": 27,
      "outputs": [
        {
          "output_type": "stream",
          "name": "stdout",
          "text": [
            " LECTURA SECUENCIAL DEL ARCHIVO DE INVENTARIO:\n",
            "\n",
            "ID: C001\n",
            "Nombre: Arduino UNO\n",
            "Fabricante: Arduino\n",
            "Categoría: Microcontrolador\n",
            "Cantidad: 15\n",
            "Fecha Última Entrada: 2025-10-15\n",
            "--------------------------------------------------\n",
            "ID: C002\n",
            "Nombre: Sensor DHT11\n",
            "Fabricante: Adafruit\n",
            "Categoría: Sensor\n",
            "Cantidad: 8\n",
            "Fecha Última Entrada: 2025-09-20\n",
            "--------------------------------------------------\n",
            "ID: C003\n",
            "Nombre: ESP32 DevKit\n",
            "Fabricante: Espressif\n",
            "Categoría: Microcontrolador\n",
            "Cantidad: 5\n",
            "Fecha Última Entrada: 2025-08-01\n",
            "--------------------------------------------------\n",
            "ID: C004\n",
            "Nombre: Servo Motor SG90\n",
            "Fabricante: TowerPro\n",
            "Categoría: Actuador\n",
            "Cantidad: 25\n",
            "Fecha Última Entrada: 2025-10-10\n",
            "--------------------------------------------------\n",
            "ID: C005\n",
            "Nombre: Resistencia 220Ω\n",
            "Fabricante: Vishay\n",
            "Categoría: Pasivo\n",
            "Cantidad: 50\n",
            "Fecha Última Entrada: 2025-09-28\n",
            "--------------------------------------------------\n",
            "ID: C006\n",
            "Nombre: Sensor PIR\n",
            "Fabricante: HC-SR501\n",
            "Categoría: Sensor\n",
            "Cantidad: 7\n",
            "Fecha Última Entrada: 2025-07-15\n",
            "--------------------------------------------------\n"
          ]
        }
      ]
    },
    {
      "cell_type": "markdown",
      "source": [
        "**3. Busqueda por acceso directo**"
      ],
      "metadata": {
        "id": "v6fIghXydQ5E"
      }
    },
    {
      "cell_type": "code",
      "source": [
        "# Se abre el archivo en modo lectura\n",
        "with open(\"inventario_componentes.csv\", \"r\") as archivo:\n",
        "    lector = csv.reader(archivo)\n",
        "\n",
        "    # Solicita al usuario el ID a buscar\n",
        "    id_buscar = input(\"Ingrese el ID del componente que desea buscar: \")\n",
        "    archivo.seek(0)\n",
        "\n",
        "    encontrado = False\n",
        "\n",
        "    for fila in lector:\n",
        "        if fila[0] == id_buscar:  # Si el ID coincide\n",
        "            print(\"\\n Componente encontrado:\")\n",
        "            print(f\"ID: {fila[0]}\")\n",
        "            print(f\"Nombre: {fila[1]}\")\n",
        "            print(f\"Fabricante: {fila[2]}\")\n",
        "            print(f\"Categoría: {fila[3]}\")\n",
        "            print(f\"Cantidad en Stock: {fila[4]}\")\n",
        "            encontrado = True\n",
        "            break\n",
        "\n",
        "    if not encontrado:\n",
        "        print(f\"\\n No se encontró un componente con el ID {id_buscar}.\")\n"
      ],
      "metadata": {
        "colab": {
          "base_uri": "https://localhost:8080/"
        },
        "id": "JY3HgDQadVpw",
        "outputId": "faf31de1-9a6f-421d-dac8-ab74bfab81f9"
      },
      "execution_count": 30,
      "outputs": [
        {
          "output_type": "stream",
          "name": "stdout",
          "text": [
            "Ingrese el ID del componente que desea buscar: C006\n",
            "\n",
            " Componente encontrado:\n",
            "ID: C006\n",
            "Nombre: Sensor PIR\n",
            "Fabricante: HC-SR501\n",
            "Categoría: Sensor\n",
            "Cantidad en Stock: 7\n"
          ]
        }
      ]
    }
  ]
}